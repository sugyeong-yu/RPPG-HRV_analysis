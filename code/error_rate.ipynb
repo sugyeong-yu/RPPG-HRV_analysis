{
 "cells": [
  {
   "cell_type": "code",
   "execution_count": 1,
   "metadata": {},
   "outputs": [],
   "source": [
    "import os\n",
    "import heartpy as hp\n",
    "import matplotlib.pyplot as plt\n",
    "import numpy as np\n",
    "import scipy\n",
    "from scipy import signal\n",
    "import csv\n",
    "import math\n",
    "from hrvanalysis import get_frequency_domain_features\n",
    "from utils import *\n",
    "import pandas as pd\n",
    "import sys\n"
   ]
  },
  {
   "cell_type": "code",
   "execution_count": 21,
   "metadata": {},
   "outputs": [],
   "source": [
    "subject=3 # 0~10\n",
    "\n",
    "res=\"D:\\\\prlab\\\\ysg\\\\rppg\\\\new\\\\result\\\\%d.csv\"%(subject)\n",
    "res = pd.read_csv(res)\n",
    "\n",
    "c_LF=res['c_lf']\n",
    "c_HF=res['c_hf']\n",
    "c_LFnu=res['c_lfnu']\n",
    "c_HFnu=res['c_hfnu']\n",
    "c_LHRatio=res['c_lf_hf_ratio']\n",
    "\n",
    "r_LF=res['r_lf']\n",
    "r_HF=res['r_hf']\n",
    "r_LFnu=res['r_lfnu']\n",
    "r_HFnu=res['r_hfnu']\n",
    "r_LHRatio=res['r_lf_hf_ratio']"
   ]
  },
  {
   "cell_type": "code",
   "execution_count": 14,
   "metadata": {},
   "outputs": [
    {
     "name": "stdout",
     "output_type": "stream",
     "text": [
      "0     52.509154\n",
      "1     50.666826\n",
      "2     49.739257\n",
      "3     52.521414\n",
      "4     44.497761\n",
      "5     45.777716\n",
      "6     49.612412\n",
      "7     45.135158\n",
      "8     39.292702\n",
      "9     44.634379\n",
      "10    47.992675\n",
      "Name: c_lfnu, dtype: float64\n",
      "0     51.450555\n",
      "1     46.916022\n",
      "2     44.053427\n",
      "3     48.620931\n",
      "4     40.206906\n",
      "5     40.279891\n",
      "6     44.421928\n",
      "7     38.661317\n",
      "8     30.940259\n",
      "9     36.146943\n",
      "10    39.313951\n",
      "Name: r_lfnu, dtype: float64\n"
     ]
    }
   ],
   "source": [
    "# data 확인\n",
    "print(c_LFnu)\n",
    "print(r_LFnu)"
   ]
  },
  {
   "cell_type": "code",
   "execution_count": 22,
   "metadata": {},
   "outputs": [
    {
     "name": "stdout",
     "output_type": "stream",
     "text": [
      "0      98.523540\n",
      "1     112.858788\n",
      "2      18.400956\n",
      "3     105.354888\n",
      "4     165.210412\n",
      "5      97.087560\n",
      "6     237.043574\n",
      "7     244.210251\n",
      "8     302.684508\n",
      "9     468.598351\n",
      "10    606.614423\n",
      "dtype: float64\n",
      "2456.5872512 11\n",
      "==error_rate=== 223.32611374545456\n",
      "0      346.456139\n",
      "1      363.245964\n",
      "2      350.094000\n",
      "3      324.106227\n",
      "4      290.504947\n",
      "5      306.155388\n",
      "6      423.624558\n",
      "7      502.811688\n",
      "8      630.977742\n",
      "9      869.811791\n",
      "10    1638.199502\n",
      "dtype: float64\n",
      "6045.987945700001 11\n",
      "==error_rate=== 549.6352677909091\n",
      "0      4.742254\n",
      "1      5.489931\n",
      "2      7.364556\n",
      "3      4.917388\n",
      "4      4.124313\n",
      "5      5.445194\n",
      "6      6.075361\n",
      "7      6.986674\n",
      "8      8.291305\n",
      "9     10.756525\n",
      "10    19.589826\n",
      "dtype: float64\n",
      "83.78332764000001 11\n",
      "==error_rate=== 7.61666614909091\n",
      "0      4.742254\n",
      "1      5.489931\n",
      "2      7.364556\n",
      "3      4.917388\n",
      "4      4.124313\n",
      "5      5.445194\n",
      "6      6.075361\n",
      "7      6.986674\n",
      "8      8.291305\n",
      "9     10.756525\n",
      "10    19.589826\n",
      "dtype: float64\n",
      "83.78332764 11\n",
      "==error_rate=== 7.616666149090909\n",
      "0     0.149833\n",
      "1     0.204222\n",
      "2     0.271413\n",
      "3     0.201706\n",
      "4     0.253768\n",
      "5     0.343650\n",
      "6     0.476317\n",
      "7     0.515852\n",
      "8     0.608470\n",
      "9     0.785338\n",
      "10    1.548889\n",
      "dtype: float64\n",
      "5.359458378999999 11\n",
      "==error_rate=== 0.48722348899999995\n"
     ]
    }
   ],
   "source": [
    "def error_rate(a,b):\n",
    "    diff=abs(a-b)\n",
    "    print(diff)\n",
    "    err=diff.sum()/len(diff)\n",
    "    print(diff.sum(),len(diff))\n",
    "    print(\"==error_rate===\", err)\n",
    "\n",
    "error_rate(c_LF,r_LF)\n",
    "error_rate(c_HF,r_HF)\n",
    "error_rate(c_LFnu,r_LFnu)\n",
    "error_rate(c_HFnu,r_HFnu)\n",
    "error_rate(c_LHRatio,r_LHRatio)\n"
   ]
  }
 ],
 "metadata": {
  "kernelspec": {
   "display_name": "hrv",
   "language": "python",
   "name": "hrv"
  },
  "language_info": {
   "codemirror_mode": {
    "name": "ipython",
    "version": 3
   },
   "file_extension": ".py",
   "mimetype": "text/x-python",
   "name": "python",
   "nbconvert_exporter": "python",
   "pygments_lexer": "ipython3",
   "version": "3.8.0"
  }
 },
 "nbformat": 4,
 "nbformat_minor": 4
}
